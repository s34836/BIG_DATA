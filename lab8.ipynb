{
  "nbformat": 4,
  "nbformat_minor": 0,
  "metadata": {
    "colab": {
      "provenance": [],
      "name": "lab8.ipynb",
      "authorship_tag": "ABX9TyPdXZKw0dJvWW7S7VNjcr//",
      "include_colab_link": true
    },
    "kernelspec": {
      "name": "python3",
      "display_name": "Python 3"
    },
    "language_info": {
      "name": "python"
    }
  },
  "cells": [
    {
      "cell_type": "markdown",
      "metadata": {
        "id": "view-in-github",
        "colab_type": "text"
      },
      "source": [
        "<a href=\"https://colab.research.google.com/github/s34836/BIG_DATA/blob/main/lab8.ipynb\" target=\"_parent\"><img src=\"https://colab.research.google.com/assets/colab-badge.svg\" alt=\"Open In Colab\"/></a>"
      ]
    },
    {
      "cell_type": "markdown",
      "source": [
        "1. Write 2 separate scripts and run them in spark-submit or in google colab (5 pts):\n",
        "\n",
        "a. Scripts: total spent by customer and total spent by customer with sorting -\n",
        "just as the scripts you wrote with MRJob, but with Spark sql this time.\n",
        "\n",
        "b. Attach code and screenshots with running the code. DO NOT ATTACH IT ZIP\n",
        "FOLDER.\n",
        "\n",
        "c. This exercise must be completed using spark sql methods."
      ],
      "metadata": {
        "id": "FPCHGDpMgXA2"
      }
    },
    {
      "cell_type": "code",
      "execution_count": null,
      "metadata": {
        "id": "QFx7pmqKfPF7",
        "colab": {
          "base_uri": "https://localhost:8080/"
        },
        "outputId": "fd1e9c2b-c806-471b-8780-f39ec4f97082"
      },
      "outputs": [
        {
          "output_type": "stream",
          "name": "stdout",
          "text": [
            "+-----------+-----------+\n",
            "|customer_id|total_spent|\n",
            "+-----------+-----------+\n",
            "|         31|    4765.05|\n",
            "|         85|    5503.43|\n",
            "|         65|    5140.35|\n",
            "|         53|     4945.3|\n",
            "|         78|    4524.51|\n",
            "|         34|     5330.8|\n",
            "|         81|    5112.71|\n",
            "|         28|    5000.71|\n",
            "|         76|    4904.21|\n",
            "|         27|    4915.89|\n",
            "|         26|     5250.4|\n",
            "|         44|    4756.89|\n",
            "|         12|    4664.59|\n",
            "|         91|    4642.26|\n",
            "|         22|    5019.45|\n",
            "|         93|    5265.75|\n",
            "|         47|     4316.3|\n",
            "|          1|     4958.6|\n",
            "|         52|    5245.06|\n",
            "|         13|    4367.62|\n",
            "+-----------+-----------+\n",
            "only showing top 20 rows\n",
            "\n"
          ]
        }
      ],
      "source": [
        "from pyspark.sql import SparkSession, Row\n",
        "\n",
        "spark = SparkSession.builder.appName(\"TotalSpentByCustomer\").getOrCreate()\n",
        "df = spark.read.csv(\"customer-orders.csv\", header=False, inferSchema=True)\n",
        "df = df.withColumnRenamed(\"_c0\", \"customer_id\") \\\n",
        "       .withColumnRenamed(\"_c1\", \"order_id\") \\\n",
        "       .withColumnRenamed(\"_c2\", \"amount\")\n",
        "\n",
        "df.createOrReplaceTempView(\"customer_orders\")\n",
        "result = spark.sql(\"SELECT customer_id, ROUND(SUM(amount), 2) AS total_spent \\\n",
        "                    FROM customer_orders GROUP BY customer_id\")\n",
        "result.show()\n",
        "\n",
        "\n",
        "spark.stop()\n"
      ]
    },
    {
      "cell_type": "code",
      "source": [
        "from pyspark.sql import SparkSession, Row\n",
        "\n",
        "spark = SparkSession.builder.appName(\"TotalSpentByCustomer\").getOrCreate()\n",
        "df = spark.read.csv(\"customer-orders.csv\", header=False, inferSchema=True)\n",
        "df = df.withColumnRenamed(\"_c0\", \"customer_id\") \\\n",
        "       .withColumnRenamed(\"_c1\", \"order_id\") \\\n",
        "       .withColumnRenamed(\"_c2\", \"amount\")\n",
        "\n",
        "df.createOrReplaceTempView(\"customer_orders\")\n",
        "result = spark.sql(\"SELECT customer_id, ROUND(SUM(amount), 2) AS total_spent \\\n",
        "                    FROM customer_orders GROUP BY customer_id \\\n",
        "                    ORDER BY total_spent DESC\")\n",
        "result.show()\n",
        "\n",
        "\n",
        "spark.stop()"
      ],
      "metadata": {
        "colab": {
          "base_uri": "https://localhost:8080/"
        },
        "id": "4OPBQquNYx76",
        "outputId": "d2bfe100-2e51-4b74-bcf3-5f53f0a950d1"
      },
      "execution_count": 2,
      "outputs": [
        {
          "output_type": "stream",
          "name": "stdout",
          "text": [
            "+-----------+-----------+\n",
            "|customer_id|total_spent|\n",
            "+-----------+-----------+\n",
            "|         68|    6375.45|\n",
            "|         73|     6206.2|\n",
            "|         39|    6193.11|\n",
            "|         54|    6065.39|\n",
            "|         71|    5995.66|\n",
            "|          2|    5994.59|\n",
            "|         97|    5977.19|\n",
            "|         46|    5963.11|\n",
            "|         42|    5696.84|\n",
            "|         59|    5642.89|\n",
            "|         41|    5637.62|\n",
            "|          0|    5524.95|\n",
            "|          8|    5517.24|\n",
            "|         85|    5503.43|\n",
            "|         61|    5497.48|\n",
            "|         32|    5496.05|\n",
            "|         58|    5437.73|\n",
            "|         63|    5415.15|\n",
            "|         15|    5413.51|\n",
            "|          6|    5397.88|\n",
            "+-----------+-----------+\n",
            "only showing top 20 rows\n",
            "\n"
          ]
        }
      ]
    }
  ]
}