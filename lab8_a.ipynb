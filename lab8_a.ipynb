{
  "nbformat": 4,
  "nbformat_minor": 0,
  "metadata": {
    "colab": {
      "provenance": [],
      "name": "lab8_a.ipynb",
      "authorship_tag": "ABX9TyOqAgpAp9QbDNzap3fVvVuu",
      "include_colab_link": true
    },
    "kernelspec": {
      "name": "python3",
      "display_name": "Python 3"
    },
    "language_info": {
      "name": "python"
    }
  },
  "cells": [
    {
      "cell_type": "markdown",
      "metadata": {
        "id": "view-in-github",
        "colab_type": "text"
      },
      "source": [
        "<a href=\"https://colab.research.google.com/github/s34836/BIG_DATA/blob/main/lab8_a.ipynb\" target=\"_parent\"><img src=\"https://colab.research.google.com/assets/colab-badge.svg\" alt=\"Open In Colab\"/></a>"
      ]
    },
    {
      "cell_type": "markdown",
      "source": [
        "Exercises\n",
        "1. Write 2 separate scripts and run them in spark-submit (5 pts):\n",
        "a. Scripts: total spent by customer and total spent by customer with sorting -\n",
        "just as the scripts you wrote with MRJob, but with Spark this time.\n",
        "\n",
        "b. Attach code and screenshots with running spark submit. DO NOT ATTACH IT\n",
        "ZIP FOLDER."
      ],
      "metadata": {
        "id": "FPCHGDpMgXA2"
      }
    },
    {
      "cell_type": "code",
      "execution_count": null,
      "metadata": {
        "id": "QFx7pmqKfPF7"
      },
      "outputs": [],
      "source": [
        "from pyspark import SparkContext, SparkConf\n",
        "\n",
        "conf = SparkConf().setAppName(\"TotalSpentByCustomerRDD\")\n",
        "sc = SparkContext(conf=conf)\n"
      ]
    },
    {
      "cell_type": "code",
      "source": [
        "lines = sc.textFile(\"customer-orders.csv\")"
      ],
      "metadata": {
        "id": "WEUPlJXFf6h0"
      },
      "execution_count": null,
      "outputs": []
    },
    {
      "cell_type": "code",
      "source": [
        "lines.collect()[:5]"
      ],
      "metadata": {
        "colab": {
          "base_uri": "https://localhost:8080/"
        },
        "id": "i3ubKN8UgPWF",
        "outputId": "5b7ecc46-5130-4658-b8bc-ede08e81e44d"
      },
      "execution_count": null,
      "outputs": [
        {
          "output_type": "execute_result",
          "data": {
            "text/plain": [
              "['44,8602,37.19',\n",
              " '35,5368,65.89',\n",
              " '2,3391,40.64',\n",
              " '47,6694,14.98',\n",
              " '29,680,13.08']"
            ]
          },
          "metadata": {},
          "execution_count": 29
        }
      ]
    },
    {
      "cell_type": "code",
      "source": [
        "customer_orders = lines.map(lambda line: line.split(\",\")) \\\n",
        "                       .map(lambda fields: (int(fields[0]), float(fields[2])))\n",
        "customer_orders.collect()[:5]"
      ],
      "metadata": {
        "colab": {
          "base_uri": "https://localhost:8080/"
        },
        "id": "zzdPQoVRg7xQ",
        "outputId": "b0c4f05b-13cd-49c4-e53a-0fee34008d37"
      },
      "execution_count": null,
      "outputs": [
        {
          "output_type": "execute_result",
          "data": {
            "text/plain": [
              "[(44, 37.19), (35, 65.89), (2, 40.64), (47, 14.98), (29, 13.08)]"
            ]
          },
          "metadata": {},
          "execution_count": 30
        }
      ]
    },
    {
      "cell_type": "code",
      "source": [
        "total_by_customer = customer_orders.reduceByKey(lambda x, y: x + y)\n",
        "output = total_by_customer.collect()\n",
        "output[:5]"
      ],
      "metadata": {
        "colab": {
          "base_uri": "https://localhost:8080/"
        },
        "id": "6G0eFCRHhVV5",
        "outputId": "3407ca06-c1dd-4bdd-b707-b97e6abc50a5"
      },
      "execution_count": null,
      "outputs": [
        {
          "output_type": "execute_result",
          "data": {
            "text/plain": [
              "[(44, 4756.890000000001),\n",
              " (2, 5994.59),\n",
              " (70, 5368.249999999999),\n",
              " (14, 4735.030000000001),\n",
              " (42, 5696.840000000002)]"
            ]
          },
          "metadata": {},
          "execution_count": 31
        }
      ]
    },
    {
      "cell_type": "code",
      "source": [
        "for customer_id, total in output:\n",
        "    print(f\"Customer ID: {customer_id}, Total Spent: {total:.2f}\")"
      ],
      "metadata": {
        "colab": {
          "base_uri": "https://localhost:8080/"
        },
        "id": "cOg-9j3oiUJu",
        "outputId": "d57e7747-ec65-4a99-a769-4546da894691"
      },
      "execution_count": null,
      "outputs": [
        {
          "output_type": "stream",
          "name": "stdout",
          "text": [
            "Customer ID: 44, Total Spent: 4756.89\n",
            "Customer ID: 2, Total Spent: 5994.59\n",
            "Customer ID: 70, Total Spent: 5368.25\n",
            "Customer ID: 14, Total Spent: 4735.03\n",
            "Customer ID: 42, Total Spent: 5696.84\n",
            "Customer ID: 50, Total Spent: 4517.27\n",
            "Customer ID: 20, Total Spent: 4836.86\n",
            "Customer ID: 48, Total Spent: 4384.33\n",
            "Customer ID: 4, Total Spent: 4815.05\n",
            "Customer ID: 36, Total Spent: 4278.05\n",
            "Customer ID: 12, Total Spent: 4664.59\n",
            "Customer ID: 22, Total Spent: 5019.45\n",
            "Customer ID: 54, Total Spent: 6065.39\n",
            "Customer ID: 0, Total Spent: 5524.95\n",
            "Customer ID: 88, Total Spent: 4830.55\n",
            "Customer ID: 86, Total Spent: 4908.81\n",
            "Customer ID: 40, Total Spent: 5186.43\n",
            "Customer ID: 98, Total Spent: 4297.26\n",
            "Customer ID: 78, Total Spent: 4524.51\n",
            "Customer ID: 6, Total Spent: 5397.88\n",
            "Customer ID: 26, Total Spent: 5250.40\n",
            "Customer ID: 60, Total Spent: 5040.71\n",
            "Customer ID: 64, Total Spent: 5288.69\n",
            "Customer ID: 82, Total Spent: 4812.49\n",
            "Customer ID: 72, Total Spent: 5337.44\n",
            "Customer ID: 34, Total Spent: 5330.80\n",
            "Customer ID: 8, Total Spent: 5517.24\n",
            "Customer ID: 46, Total Spent: 5963.11\n",
            "Customer ID: 80, Total Spent: 4727.86\n",
            "Customer ID: 16, Total Spent: 4979.06\n",
            "Customer ID: 18, Total Spent: 4921.27\n",
            "Customer ID: 74, Total Spent: 4647.13\n",
            "Customer ID: 30, Total Spent: 4990.72\n",
            "Customer ID: 56, Total Spent: 4701.02\n",
            "Customer ID: 90, Total Spent: 5290.41\n",
            "Customer ID: 68, Total Spent: 6375.45\n",
            "Customer ID: 10, Total Spent: 4819.70\n",
            "Customer ID: 58, Total Spent: 5437.73\n",
            "Customer ID: 62, Total Spent: 5253.32\n",
            "Customer ID: 92, Total Spent: 5379.28\n",
            "Customer ID: 76, Total Spent: 4904.21\n",
            "Customer ID: 66, Total Spent: 4681.92\n",
            "Customer ID: 52, Total Spent: 5245.06\n",
            "Customer ID: 84, Total Spent: 4652.94\n",
            "Customer ID: 24, Total Spent: 5259.92\n",
            "Customer ID: 96, Total Spent: 3924.23\n",
            "Customer ID: 94, Total Spent: 4475.57\n",
            "Customer ID: 32, Total Spent: 5496.05\n",
            "Customer ID: 38, Total Spent: 4898.46\n",
            "Customer ID: 28, Total Spent: 5000.71\n",
            "Customer ID: 35, Total Spent: 5155.42\n",
            "Customer ID: 47, Total Spent: 4316.30\n",
            "Customer ID: 29, Total Spent: 5032.53\n",
            "Customer ID: 91, Total Spent: 4642.26\n",
            "Customer ID: 85, Total Spent: 5503.43\n",
            "Customer ID: 53, Total Spent: 4945.30\n",
            "Customer ID: 51, Total Spent: 4975.22\n",
            "Customer ID: 79, Total Spent: 3790.57\n",
            "Customer ID: 15, Total Spent: 5413.51\n",
            "Customer ID: 5, Total Spent: 4561.07\n",
            "Customer ID: 31, Total Spent: 4765.05\n",
            "Customer ID: 57, Total Spent: 4628.40\n",
            "Customer ID: 13, Total Spent: 4367.62\n",
            "Customer ID: 55, Total Spent: 5298.09\n",
            "Customer ID: 95, Total Spent: 4876.84\n",
            "Customer ID: 61, Total Spent: 5497.48\n",
            "Customer ID: 27, Total Spent: 4915.89\n",
            "Customer ID: 83, Total Spent: 4635.80\n",
            "Customer ID: 75, Total Spent: 4178.50\n",
            "Customer ID: 25, Total Spent: 5057.61\n",
            "Customer ID: 71, Total Spent: 5995.66\n",
            "Customer ID: 39, Total Spent: 6193.11\n",
            "Customer ID: 97, Total Spent: 5977.19\n",
            "Customer ID: 7, Total Spent: 4755.07\n",
            "Customer ID: 21, Total Spent: 4707.41\n",
            "Customer ID: 69, Total Spent: 5123.01\n",
            "Customer ID: 37, Total Spent: 4735.20\n",
            "Customer ID: 1, Total Spent: 4958.60\n",
            "Customer ID: 99, Total Spent: 4172.29\n",
            "Customer ID: 73, Total Spent: 6206.20\n",
            "Customer ID: 49, Total Spent: 4394.60\n",
            "Customer ID: 23, Total Spent: 4042.65\n",
            "Customer ID: 19, Total Spent: 5059.43\n",
            "Customer ID: 65, Total Spent: 5140.35\n",
            "Customer ID: 9, Total Spent: 5322.65\n",
            "Customer ID: 59, Total Spent: 5642.89\n",
            "Customer ID: 11, Total Spent: 5152.29\n",
            "Customer ID: 41, Total Spent: 5637.62\n",
            "Customer ID: 87, Total Spent: 5206.40\n",
            "Customer ID: 17, Total Spent: 5032.68\n",
            "Customer ID: 33, Total Spent: 5254.66\n",
            "Customer ID: 43, Total Spent: 5368.83\n",
            "Customer ID: 77, Total Spent: 4327.73\n",
            "Customer ID: 81, Total Spent: 5112.71\n",
            "Customer ID: 3, Total Spent: 4659.63\n",
            "Customer ID: 93, Total Spent: 5265.75\n",
            "Customer ID: 89, Total Spent: 4851.48\n",
            "Customer ID: 45, Total Spent: 3309.38\n",
            "Customer ID: 67, Total Spent: 4505.79\n",
            "Customer ID: 63, Total Spent: 5415.15\n"
          ]
        }
      ]
    },
    {
      "cell_type": "code",
      "source": [
        "total_by_customer.saveAsTextFile(\"7A\")"
      ],
      "metadata": {
        "id": "51f08mmNjA_T"
      },
      "execution_count": null,
      "outputs": []
    },
    {
      "cell_type": "code",
      "source": [
        "sc.stop()"
      ],
      "metadata": {
        "id": "5Q1LQYfejMUR"
      },
      "execution_count": null,
      "outputs": []
    }
  ]
}