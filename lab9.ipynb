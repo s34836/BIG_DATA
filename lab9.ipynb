{
  "nbformat": 4,
  "nbformat_minor": 0,
  "metadata": {
    "colab": {
      "provenance": [],
      "authorship_tag": "ABX9TyNi7DjnQ/Eic7XCIpI6wgX2",
      "include_colab_link": true
    },
    "kernelspec": {
      "name": "python3",
      "display_name": "Python 3"
    },
    "language_info": {
      "name": "python"
    }
  },
  "cells": [
    {
      "cell_type": "markdown",
      "metadata": {
        "id": "view-in-github",
        "colab_type": "text"
      },
      "source": [
        "<a href=\"https://colab.research.google.com/github/s34836/BIG_DATA/blob/main/lab9.ipynb\" target=\"_parent\"><img src=\"https://colab.research.google.com/assets/colab-badge.svg\" alt=\"Open In Colab\"/></a>"
      ]
    },
    {
      "cell_type": "markdown",
      "source": [
        "In Spark (either SQL or not) create a script to find the most obscure Marvel superhero based on two files you can find in Class Materials."
      ],
      "metadata": {
        "id": "Dk9ir2x4NrR4"
      }
    },
    {
      "cell_type": "code",
      "source": [
        "from pyspark.sql import SparkSession\n",
        "from pyspark.sql.functions import split, size, col\n",
        "spark = SparkSession.builder.appName(\"ObscureMarvelHero\").getOrCreate()\n",
        "\n",
        "# Marvel graph\n",
        "graph_raw = spark.read.text(\"MarvelGraph.txt\")\n",
        "graph_raw.createOrReplaceTempView(\"graph_raw\")\n",
        "# Count connections\n",
        "graph_df = spark.sql(\"SELECT CAST(SPLIT(value, ' ')[0] AS INT) as hero_id, \\\n",
        "                            (SIZE(SPLIT(value, ' ')) - 1) as connection_count \\\n",
        "                     FROM graph_raw\")\n",
        "\n",
        "# Marvel names\n",
        "names_raw = spark.read.text(\"MarvelNames.txt\")\n",
        "names_raw.createOrReplaceTempView(\"names_raw\")\n",
        "names_df = spark.sql(\"SELECT CAST(SPLIT(value, ' ')[0] AS INT) as hero_id, \\\n",
        "                            SPLIT(value, ' ', 2)[1] as hero_name \\\n",
        "                     FROM names_raw\")\n",
        "\n",
        "# Join graph with names\n",
        "hero_df = graph_df.join(names_df, \"hero_id\", \"inner\")\n",
        "hero_df.createOrReplaceTempView(\"heroes\")\n",
        "\n",
        "# Find minimum connection count\n",
        "min_connections = spark.sql(\"SELECT MIN(connection_count) as min_connections FROM heroes\")\n",
        "min_connections.show()\n",
        "\n",
        "# Count heroes with minimum connections\n",
        "count_min = spark.sql(\"SELECT COUNT(*) as heroes_with_min_connections \\\n",
        "                      FROM heroes \\\n",
        "                      WHERE connection_count = (SELECT MIN(connection_count) FROM heroes)\")\n",
        "count_min.show()\n",
        "\n",
        "# Find most obscure heroes (those with minimum connections)\n",
        "result = spark.sql(\"SELECT hero_id, hero_name, connection_count \\\n",
        "                   FROM heroes \\\n",
        "                   WHERE connection_count = (SELECT MIN(connection_count) FROM heroes) \\\n",
        "                   ORDER BY hero_name ASC\")\n",
        "result.show(truncate=False)\n",
        "spark.stop()"
      ],
      "metadata": {
        "colab": {
          "base_uri": "https://localhost:8080/"
        },
        "id": "WPMX_m_5NffG",
        "outputId": "2ac3a357-5833-4c90-bd9e-9aee4c0c0f09"
      },
      "execution_count": 19,
      "outputs": [
        {
          "output_type": "stream",
          "name": "stdout",
          "text": [
            "+---------------+\n",
            "|min_connections|\n",
            "+---------------+\n",
            "|              1|\n",
            "+---------------+\n",
            "\n",
            "+---------------------------+\n",
            "|heroes_with_min_connections|\n",
            "+---------------------------+\n",
            "|                         19|\n",
            "+---------------------------+\n",
            "\n",
            "+-------+----------------------+----------------+\n",
            "|hero_id|hero_name             |connection_count|\n",
            "+-------+----------------------+----------------+\n",
            "|467    |\"BERSERKER II\"        |1               |\n",
            "|577    |\"BLARE/\"              |1               |\n",
            "|835    |\"CALLAHAN, DANNY\"     |1               |\n",
            "|1089   |\"CLUMSY FOULUP\"       |1               |\n",
            "|1408   |\"DEATHCHARGE\"         |1               |\n",
            "|1841   |\"FENRIS\"              |1               |\n",
            "|2117   |\"GERVASE, LADY ALYSSA\"|1               |\n",
            "|2139   |\"GIURESCU, RADU\"      |1               |\n",
            "|3014   |\"JOHNSON, LYNDON BAIN\"|1               |\n",
            "|2911   |\"KULL\"                |1               |\n",
            "|3298   |\"LUNATIK II\"          |1               |\n",
            "|3490   |\"MARVEL BOY II/MARTIN\"|1               |\n",
            "|3489   |\"MARVEL BOY/MARTIN BU\"|1               |\n",
            "|4517   |\"RANDAK\"              |1               |\n",
            "|4602   |\"RED WOLF II\"         |1               |\n",
            "|4784   |\"RUNE\"                |1               |\n",
            "|4945   |\"SEA LEOPARD\"         |1               |\n",
            "|5028   |\"SHARKSKIN\"           |1               |\n",
            "|6411   |\"ZANTOR\"              |1               |\n",
            "+-------+----------------------+----------------+\n",
            "\n"
          ]
        }
      ]
    }
  ]
}