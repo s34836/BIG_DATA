{
  "nbformat": 4,
  "nbformat_minor": 0,
  "metadata": {
    "colab": {
      "provenance": [],
      "authorship_tag": "ABX9TyPCu/m9+XN3Ksj9EXG2GcZQ",
      "include_colab_link": true
    },
    "kernelspec": {
      "name": "python3",
      "display_name": "Python 3"
    },
    "language_info": {
      "name": "python"
    }
  },
  "cells": [
    {
      "cell_type": "markdown",
      "metadata": {
        "id": "view-in-github",
        "colab_type": "text"
      },
      "source": [
        "<a href=\"https://colab.research.google.com/github/s34836/BIG_DATA/blob/main/lab9.ipynb\" target=\"_parent\"><img src=\"https://colab.research.google.com/assets/colab-badge.svg\" alt=\"Open In Colab\"/></a>"
      ]
    },
    {
      "cell_type": "markdown",
      "source": [
        "In Spark (either SQL or not) create a script to find the most obscure Marvel superheros based on two files you can find in Class Materials."
      ],
      "metadata": {
        "id": "Dk9ir2x4NrR4"
      }
    },
    {
      "cell_type": "code",
      "source": [
        "from pyspark.sql import SparkSession\n",
        "from pyspark.sql.functions import split, size, col\n",
        "spark = SparkSession.builder.appName(\"ObscureMarvelHero\").getOrCreate()\n",
        "\n",
        "# Marvel graph\n",
        "graph_raw = spark.read.text(\"MarvelGraph.txt\")\n",
        "graph_raw.createOrReplaceTempView(\"graph_raw\")\n",
        "# Count connections\n",
        "graph_df = spark.sql(\"SELECT CAST(SPLIT(value, ' ')[0] AS INT) as hero_id, \\\n",
        "                            (SIZE(SPLIT(value, ' ')) - 1) - 1 as connection_count \\\n",
        "                     FROM graph_raw\")\n",
        "\n",
        "# Marvel names\n",
        "names_raw = spark.read.text(\"MarvelNames.txt\")\n",
        "names_raw.createOrReplaceTempView(\"names_raw\")\n",
        "names_df = spark.sql(\"SELECT CAST(SPLIT(value, ' ')[0] AS INT) as hero_id, \\\n",
        "                            SPLIT(value, ' ', 2)[1] as hero_name \\\n",
        "                     FROM names_raw\")\n",
        "\n",
        "# Join graph with names\n",
        "hero_df = graph_df.join(names_df, \"hero_id\", \"inner\")\n",
        "hero_df.createOrReplaceTempView(\"heroes\")\n",
        "\n",
        "# Find minimum connection count\n",
        "min_connections = spark.sql(\"SELECT MIN(connection_count) as min_connections FROM heroes\")\n",
        "min_connections.show()\n",
        "\n",
        "# Count heroes with minimum connections\n",
        "count_min = spark.sql(\"SELECT COUNT(*) as count_of_heroes_with_min_connections \\\n",
        "                      FROM heroes \\\n",
        "                      WHERE connection_count = (SELECT MIN(connection_count) FROM heroes)\")\n",
        "count_min.show()\n",
        "\n",
        "# Find most obscure heroes (those with minimum connections)\n",
        "result = spark.sql(\"SELECT hero_id, hero_name, connection_count \\\n",
        "                   FROM heroes \\\n",
        "                   WHERE connection_count = (SELECT MIN(connection_count) FROM heroes) \\\n",
        "                   ORDER BY hero_name ASC\")\n",
        "result.show(truncate=False)\n",
        "spark.stop()"
      ],
      "metadata": {
        "colab": {
          "base_uri": "https://localhost:8080/"
        },
        "id": "WPMX_m_5NffG",
        "outputId": "f05c84fc-7aae-4e07-ed93-740614e6e5e6"
      },
      "execution_count": 25,
      "outputs": [
        {
          "output_type": "stream",
          "name": "stdout",
          "text": [
            "+---------------+\n",
            "|min_connections|\n",
            "+---------------+\n",
            "|              0|\n",
            "+---------------+\n",
            "\n",
            "+------------------------------------+\n",
            "|count_of_heroes_with_min_connections|\n",
            "+------------------------------------+\n",
            "|                                  19|\n",
            "+------------------------------------+\n",
            "\n",
            "+-------+----------------------+----------------+\n",
            "|hero_id|hero_name             |connection_count|\n",
            "+-------+----------------------+----------------+\n",
            "|467    |\"BERSERKER II\"        |0               |\n",
            "|577    |\"BLARE/\"              |0               |\n",
            "|835    |\"CALLAHAN, DANNY\"     |0               |\n",
            "|1089   |\"CLUMSY FOULUP\"       |0               |\n",
            "|1408   |\"DEATHCHARGE\"         |0               |\n",
            "|1841   |\"FENRIS\"              |0               |\n",
            "|2117   |\"GERVASE, LADY ALYSSA\"|0               |\n",
            "|2139   |\"GIURESCU, RADU\"      |0               |\n",
            "|3014   |\"JOHNSON, LYNDON BAIN\"|0               |\n",
            "|2911   |\"KULL\"                |0               |\n",
            "|3298   |\"LUNATIK II\"          |0               |\n",
            "|3490   |\"MARVEL BOY II/MARTIN\"|0               |\n",
            "|3489   |\"MARVEL BOY/MARTIN BU\"|0               |\n",
            "|4517   |\"RANDAK\"              |0               |\n",
            "|4602   |\"RED WOLF II\"         |0               |\n",
            "|4784   |\"RUNE\"                |0               |\n",
            "|4945   |\"SEA LEOPARD\"         |0               |\n",
            "|5028   |\"SHARKSKIN\"           |0               |\n",
            "|6411   |\"ZANTOR\"              |0               |\n",
            "+-------+----------------------+----------------+\n",
            "\n"
          ]
        }
      ]
    }
  ]
}